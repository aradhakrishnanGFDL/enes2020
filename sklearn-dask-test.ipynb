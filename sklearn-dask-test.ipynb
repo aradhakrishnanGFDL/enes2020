{
 "cells": [
  {
   "cell_type": "code",
   "execution_count": 8,
   "metadata": {},
   "outputs": [],
   "source": [
    "import os\n",
    "from dask.distributed import Client\n",
    "from dask.distributed import LocalCluster\n",
    "############### Dask cluster specific ###############\n",
    "clusterType = \"local\" #or SLURM dask cluster or local cluster \n",
    "platform = 'ws' #By default numWorkers = 4 if you run it on workstation\n",
    "numThreads = 1\n",
    "numWorkers = 4\n",
    "numCores = 1\n",
    "mem='4GB'\n",
    "processes = False \n",
    "##################data analysis specification#################################\n",
    "varname='tas'\n",
    "datadir = '/data_cmip6/CMIP6/HighResMIP/NOAA-GFDL/GFDL-CM4C192/highresSST-future/r1i1p1f1/3hr/'+varname+'/gr3/v20180701/'\n",
    "dashPort = ':1988'\n",
    "if (platform == \"PPAN\"):\n",
    "    try:\n",
    "        logdir = os.getenv('TMPDIR')\n",
    "    except:\n",
    "        sys.exit(\"Please check the platform settings and try again.\")\n",
    "else:\n",
    "    logdir = '/local2/home/a1r/logs/'\n",
    "    processes = True \n",
    "        \n"
   ]
  },
  {
   "cell_type": "code",
   "execution_count": 9,
   "metadata": {},
   "outputs": [],
   "source": [
    "from sklearn.externals.joblib import parallel_backend\n",
    "from sklearn.datasets import make_blobs\n",
    "from sklearn.cluster import DBSCAN"
   ]
  },
  {
   "cell_type": "code",
   "execution_count": 10,
   "metadata": {},
   "outputs": [
    {
     "name": "stdout",
     "output_type": "stream",
     "text": [
      "CPU times: user 6 s, sys: 638 ms, total: 6.64 s\n",
      "Wall time: 6.61 s\n"
     ]
    },
    {
     "data": {
      "text/plain": [
       "DBSCAN(algorithm='auto', eps=0.5, leaf_size=30, metric='euclidean',\n",
       "    metric_params=None, min_samples=20, n_jobs=None, p=None)"
      ]
     },
     "execution_count": 10,
     "metadata": {},
     "output_type": "execute_result"
    }
   ],
   "source": [
    "X, y = make_blobs(n_samples = 150000, n_features = 2, centers = 2, cluster_std = 1.9)\n",
    "model = DBSCAN(eps = 0.5, min_samples = 20)\n",
    "%time model.fit(X)"
   ]
  },
  {
   "cell_type": "code",
   "execution_count": 11,
   "metadata": {},
   "outputs": [
    {
     "name": "stderr",
     "output_type": "stream",
     "text": [
      "distributed.scheduler - INFO - Clear task state\n",
      "distributed.scheduler - INFO -   Scheduler at:     tcp://127.0.0.1:37197\n",
      "distributed.scheduler - INFO -   dashboard at:            127.0.0.1:1988\n",
      "distributed.nanny - INFO -         Start Nanny at: 'tcp://127.0.0.1:46471'\n",
      "distributed.nanny - INFO -         Start Nanny at: 'tcp://127.0.0.1:40990'\n",
      "distributed.nanny - INFO -         Start Nanny at: 'tcp://127.0.0.1:35993'\n",
      "distributed.nanny - INFO -         Start Nanny at: 'tcp://127.0.0.1:44066'\n",
      "distributed.scheduler - INFO - Register tcp://127.0.0.1:43935\n",
      "distributed.scheduler - INFO - Register tcp://127.0.0.1:36445\n",
      "distributed.scheduler - INFO - Starting worker compute stream, tcp://127.0.0.1:43935\n",
      "distributed.core - INFO - Starting established connection\n",
      "distributed.scheduler - INFO - Register tcp://127.0.0.1:38056\n",
      "distributed.scheduler - INFO - Register tcp://127.0.0.1:44961\n",
      "distributed.scheduler - INFO - Starting worker compute stream, tcp://127.0.0.1:36445\n",
      "distributed.core - INFO - Starting established connection\n",
      "distributed.scheduler - INFO - Starting worker compute stream, tcp://127.0.0.1:38056\n",
      "distributed.core - INFO - Starting established connection\n",
      "distributed.scheduler - INFO - Starting worker compute stream, tcp://127.0.0.1:44961\n",
      "distributed.core - INFO - Starting established connection\n",
      "distributed.scheduler - INFO - Receive client connection: Client-4ce653be-7c61-11ea-8022-509a4c4cdd3b\n",
      "distributed.core - INFO - Starting established connection\n"
     ]
    }
   ],
   "source": [
    "#Instantiate Dask client\n",
    "if (clusterType == \"local\"):\n",
    "    from dask.distributed import LocalCluster\n",
    "    try: \n",
    "        numWorkers\n",
    "    except NameError:\n",
    "        cluster = LocalCluster(silence_logs=False,processes=processes,dashboard_address=dashPort,local_directory=logdir)\n",
    "    else:\n",
    "        cluster = LocalCluster(n_workers=numWorkers,silence_logs=False,processes=processes,threads_per_worker=numThreads,dashboard_address=dashPort,local_directory=logdir)\n",
    "\n",
    "else:\n",
    "    from dask_jobqueue import SLURMCluster\n",
    "    scheduler_options = {}\n",
    "    scheduler_options[\"dashboard_address\"] = dashPort\n",
    "    cluster = SLURMCluster(queue='batch',memory=mem,project='gfdl_f',cores=numCores,walltime='2:60:00',\n",
    "                                   scheduler_options=scheduler_options,log_directory='\"'+logdir+'\"',local_directory='\"'+logdir+'\"') \n",
    "    print(\"Cluster spun\",cluster)\n",
    "\n",
    "client = Client(cluster)    \n"
   ]
  },
  {
   "cell_type": "code",
   "execution_count": 4,
   "metadata": {},
   "outputs": [
    {
     "data": {
      "text/html": [
       "<table style=\"border: 2px solid white;\">\n",
       "<tr>\n",
       "<td style=\"vertical-align: top; border: 0px solid white\">\n",
       "<h3 style=\"text-align: left;\">Client</h3>\n",
       "<ul style=\"text-align: left; list-style: none; margin: 0; padding: 0;\">\n",
       "  <li><b>Scheduler: </b>tcp://127.0.0.1:45462</li>\n",
       "  <li><b>Dashboard: </b><a href='http://127.0.0.1:1988/status' target='_blank'>http://127.0.0.1:1988/status</a>\n",
       "</ul>\n",
       "</td>\n",
       "<td style=\"vertical-align: top; border: 0px solid white\">\n",
       "<h3 style=\"text-align: left;\">Cluster</h3>\n",
       "<ul style=\"text-align: left; list-style:none; margin: 0; padding: 0;\">\n",
       "  <li><b>Workers: </b>4</li>\n",
       "  <li><b>Cores: </b>4</li>\n",
       "  <li><b>Memory: </b>16.54 GB</li>\n",
       "</ul>\n",
       "</td>\n",
       "</tr>\n",
       "</table>"
      ],
      "text/plain": [
       "<Client: 'tcp://127.0.0.1:45462' processes=4 threads=4, memory=16.54 GB>"
      ]
     },
     "execution_count": 4,
     "metadata": {},
     "output_type": "execute_result"
    }
   ],
   "source": [
    "client "
   ]
  },
  {
   "cell_type": "code",
   "execution_count": null,
   "metadata": {},
   "outputs": [],
   "source": [
    "#cluster.scale(1)\n",
    "cluster.adapt(minimum=1,maximum=4)"
   ]
  },
  {
   "cell_type": "markdown",
   "metadata": {},
   "source": [
    "##Test with DASK"
   ]
  },
  {
   "cell_type": "code",
   "execution_count": 12,
   "metadata": {},
   "outputs": [
    {
     "name": "stdout",
     "output_type": "stream",
     "text": [
      "CPU times: user 8.73 s, sys: 563 ms, total: 9.29 s\n",
      "Wall time: 3.92 s\n"
     ]
    }
   ],
   "source": [
    "from joblib  import parallel_backend,parallel\n",
    "X, y = make_blobs(n_samples = 150000, n_features = 2, centers = 2, cluster_std = 1.9)\n",
    "model = DBSCAN(eps = 0.5, min_samples = 20,n_jobs=-1)\n",
    "with parallel_backend('dask'):\n",
    "    %time model.fit(X)"
   ]
  },
  {
   "cell_type": "code",
   "execution_count": null,
   "metadata": {},
   "outputs": [],
   "source": [
    "client"
   ]
  },
  {
   "cell_type": "code",
   "execution_count": 7,
   "metadata": {},
   "outputs": [
    {
     "name": "stderr",
     "output_type": "stream",
     "text": [
      "distributed.nanny - INFO - Closing Nanny at 'tcp://127.0.0.1:44906'\n",
      "distributed.nanny - INFO - Closing Nanny at 'tcp://127.0.0.1:43788'\n",
      "distributed.nanny - INFO - Closing Nanny at 'tcp://127.0.0.1:42372'\n",
      "distributed.nanny - INFO - Closing Nanny at 'tcp://127.0.0.1:35149'\n",
      "distributed.scheduler - INFO - Remove worker tcp://127.0.0.1:46813\n",
      "distributed.core - INFO - Removing comms to tcp://127.0.0.1:46813\n",
      "distributed.scheduler - INFO - Remove worker tcp://127.0.0.1:41504\n",
      "distributed.core - INFO - Removing comms to tcp://127.0.0.1:41504\n",
      "distributed.scheduler - INFO - Remove worker tcp://127.0.0.1:37325\n",
      "distributed.core - INFO - Removing comms to tcp://127.0.0.1:37325\n",
      "distributed.scheduler - INFO - Remove worker tcp://127.0.0.1:41241\n",
      "distributed.core - INFO - Removing comms to tcp://127.0.0.1:41241\n",
      "distributed.scheduler - INFO - Lost all workers\n",
      "distributed.scheduler - INFO - Scheduler closing...\n",
      "distributed.scheduler - INFO - Scheduler closing all comms\n"
     ]
    }
   ],
   "source": [
    "cluster.close()\n",
    "client.close()"
   ]
  },
  {
   "cell_type": "code",
   "execution_count": null,
   "metadata": {},
   "outputs": [],
   "source": []
  }
 ],
 "metadata": {
  "kernelspec": {
   "display_name": "Python(om4_sst)",
   "language": "python",
   "name": "om4_sst"
  },
  "language_info": {
   "codemirror_mode": {
    "name": "ipython",
    "version": 3
   },
   "file_extension": ".py",
   "mimetype": "text/x-python",
   "name": "python",
   "nbconvert_exporter": "python",
   "pygments_lexer": "ipython3",
   "version": "3.5.5"
  }
 },
 "nbformat": 4,
 "nbformat_minor": 4
}
