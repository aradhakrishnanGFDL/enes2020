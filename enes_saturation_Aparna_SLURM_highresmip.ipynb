{
 "cells": [
  {
   "attachments": {},
   "cell_type": "markdown",
   "metadata": {},
   "source": [
    "###### Benchmarking xarray netcdf vs xarray zarr using Dask Local cluster.\n",
    "Here we experiment with number of workers.\n",
    "\n",
    "Zarr shows better performance when scaling the workers while NetCDF seems to deteriorate, just a prelim look.\n",
    "\n",
    "For general info on GFDL specific Python/Jupyter/Anaconda, please checkout http://wiki.gfdl.noaa.gov/Python. It also has information on port for\n",
    "Data citation\n",
    "\n",
    "Zhao, Ming; Blanton, Chris; John, Jasmin G; Radhakrishnan, Aparna; Zadeh, Niki T.; McHugh, Colleen; Rand, Kristopher; Vahlenkamp, Hans; Wilson, Chandin; Ginoux, Paul; Malyshev, Sergey; Wyman, Bruce; Guo, Huan; Balaji, V; Held, Isaac M; Dunne, John P.; Winton, Michael; Adcroft, Alistair; Milly, P.C.D; Shevliakova, Elena; Knutson, Thomas; Ploshay, Jeffrey; Zeng, Yujin (2018). NOAA-GFDL GFDL-CM4C192 model output prepared for CMIP6 HighResMIP. Version 20180701 [1].Earth System Grid Federation. https://doi.org/10.22033/ESGF/CMIP6.2262\n",
    "\n",
    "\n",
    "Datasets used in this analysis attribute to 46GB\n",
    "\n",
    "Computation time in seconds\n",
    "\n",
    "Workers\tZarr\tNetCDF\n",
    "    10\t    45\t80\n",
    "    20\t31.6\t72\n",
    "    30\t23.3\t71\n",
    "    40\t23\t73\n",
    "    50\t21.7\t73\n",
    "    60\t20\t74\n",
    "    ..\n",
    "    100\t21.9\t76\n",
    "    150\t24.1\t78\n",
    "    \n",
    "Zarr chunk structure\n",
    "\n",
    "Array\tChunk\n",
    "Bytes\t87.25 GB\t8.29 MB\n",
    "Shape\t(105192, 360, 576)\t(10, 360, 576)\n",
    "Count\t10521 Tasks\t10520 Chunks\n",
    "Type\tfloat32\tnumpy.ndarray"
   ]
  },
  {
   "cell_type": "markdown",
   "metadata": {},
   "source": [
    "User input: Dask analysis template"
   ]
  },
  {
   "cell_type": "code",
   "execution_count": null,
   "metadata": {},
   "outputs": [],
   "source": [
    "import os \n",
    "clusterType = \"SLURM\" #or SLURM or Local\n",
    "platform = \"PPAN\"\n",
    "numCores = 6\n",
    "numWorkers = 10\n",
    "mem='48GB'\n",
    "varname='tas'\n",
    "dashPort = ':1984'\n",
    "if (platform == \"PPAN\"):\n",
    "    logdir = '/work/a1r/dask/logs/'\n",
    "    localdir = '' #We will set local directory when we define the cluster\n",
    "else:\n",
    "    logdir = '/local2/home/a1r/logs/'\n",
    "    localdir = logdir\n",
    "print(\"Logs:\", logdir)\n",
    "\n",
    "res_nc = {} #settings, time\n",
    "res_zarr = {} #settings, time"
   ]
  },
  {
   "cell_type": "code",
   "execution_count": null,
   "metadata": {},
   "outputs": [],
   "source": [
    "# get the plot in notebook\n",
    "%matplotlib inline\n",
    "import xarray as xr "
   ]
  },
  {
   "cell_type": "markdown",
   "metadata": {},
   "source": [
    "Use dask.distributed task scheduler and launch DASK using SLURMcluster"
   ]
  },
  {
   "cell_type": "code",
   "execution_count": null,
   "metadata": {},
   "outputs": [],
   "source": [
    "from dask.distributed import Client\n",
    "\n",
    "#Instantiate Dask client\n",
    "if (clusterType == \"local\"):\n",
    "    from dask.distributed import LocalCluster\n",
    "    cluster = LocalCluster(dashboard_address=dashPort,local_directory=localdir)\n",
    "else:\n",
    "    from dask_jobqueue import SLURMCluster\n",
    "    scheduler_options = {}\n",
    "    scheduler_options[\"dashboard_address\"] = dashPort\n",
    "    cluster = SLURMCluster(queue='batch',memory=mem,project='gfdl_f',cores=numCores,walltime='2:60:00',\n",
    "                           scheduler_options=scheduler_options,log_directory=logdir,\n",
    "                           local_directory=(os.getenv('TMPDIR'))) \n",
    "    \n",
    "cluster.scale(numWorkers)\n",
    "client = Client(cluster)    \n",
    "client"
   ]
  },
  {
   "cell_type": "code",
   "execution_count": null,
   "metadata": {},
   "outputs": [],
   "source": [
    "cluster.scale(40)"
   ]
  },
  {
   "cell_type": "code",
   "execution_count": null,
   "metadata": {},
   "outputs": [],
   "source": [
    "datadir = \"/work/a1r/enes20/out/tas_3hr_2015-2051.zarr/\""
   ]
  },
  {
   "cell_type": "code",
   "execution_count": null,
   "metadata": {},
   "outputs": [],
   "source": [
    "%time ds4 = xr.open_zarr(datadir) \n",
    "temp_mean = ds4[varname].mean(dim=['time'])\n",
    "%timeit temp_mean.plot(figsize=[10, 8],cmap='gist_ncar') "
   ]
  },
  {
   "cell_type": "code",
   "execution_count": null,
   "metadata": {},
   "outputs": [],
   "source": [
    "ds4['tas'].data"
   ]
  },
  {
   "cell_type": "markdown",
   "metadata": {},
   "source": [
    "Array\tChunk\n",
    "Bytes\t87.25 GB\t8.29 MB\n",
    "Shape\t(105192, 360, 576)\t(10, 360, 576)\n",
    "Count\t10521 Tasks\t10520 Chunks\n",
    "Type\tfloat32\tnumpy.ndarray\n"
   ]
  },
  {
   "cell_type": "code",
   "execution_count": null,
   "metadata": {},
   "outputs": [],
   "source": [
    "datadir = '/work/a1r/enes20/CMIP6/HighResMIP/NOAA-GFDL/GFDL-CM4C192/highresSST-future/r1i1p1f1/3hr/'+varname+'/gr3/v20180701/'\n",
    "%time ds5 = xr.open_mfdataset(datadir+\"*.nc\", chunks={'time': 10}, combine='by_coords',parallel=True,decode_cf=False)\n",
    "temp_mean = ds5[varname].mean(dim=['time'])\n",
    "%timeit temp_mean.plot(figsize=[10, 8],cmap='gist_ncar') "
   ]
  },
  {
   "cell_type": "code",
   "execution_count": null,
   "metadata": {},
   "outputs": [],
   "source": [
    "ds5['tas'].data"
   ]
  },
  {
   "cell_type": "code",
   "execution_count": null,
   "metadata": {},
   "outputs": [],
   "source": [
    "cluster.scale(45)"
   ]
  },
  {
   "cell_type": "code",
   "execution_count": null,
   "metadata": {},
   "outputs": [],
   "source": [
    "temp_mean = ds5[varname].mean(dim=['time'])\n",
    "%timeit temp_mean.plot(figsize=[10, 8],cmap='gist_ncar') "
   ]
  },
  {
   "cell_type": "code",
   "execution_count": null,
   "metadata": {},
   "outputs": [],
   "source": [
    "temp_mean4 = ds4[varname].mean(dim=['time'])\n",
    "%timeit temp_mean4.plot(figsize=[10, 8],cmap='gist_ncar') "
   ]
  },
  {
   "cell_type": "code",
   "execution_count": null,
   "metadata": {},
   "outputs": [],
   "source": [
    "cluster.scale(40)"
   ]
  },
  {
   "cell_type": "code",
   "execution_count": null,
   "metadata": {},
   "outputs": [],
   "source": [
    "%timeit temp_mean4.plot(figsize=[10, 8],cmap='gist_ncar') #Zarr"
   ]
  },
  {
   "cell_type": "code",
   "execution_count": null,
   "metadata": {},
   "outputs": [],
   "source": [
    "%timeit temp_mean.plot(figsize=[10, 8],cmap='gist_ncar') #NetCDF"
   ]
  },
  {
   "cell_type": "code",
   "execution_count": null,
   "metadata": {},
   "outputs": [],
   "source": [
    "cluster.scale(50)\n",
    "%timeit temp_mean.plot(figsize=[10, 8],cmap='gist_ncar') #NetCDF\n",
    "%timeit temp_mean4.plot(figsize=[10, 8],cmap='gist_ncar') #Zarr"
   ]
  },
  {
   "cell_type": "code",
   "execution_count": null,
   "metadata": {},
   "outputs": [],
   "source": [
    "cluster.scale(20)\n",
    "%timeit temp_mean.plot(figsize=[10, 8],cmap='gist_ncar') #NetCDF\n",
    "%timeit temp_mean4.plot(figsize=[10, 8],cmap='gist_ncar') #Zarr"
   ]
  },
  {
   "cell_type": "code",
   "execution_count": null,
   "metadata": {},
   "outputs": [],
   "source": [
    "cluster.scale(30)\n",
    "%timeit temp_mean.plot(figsize=[10, 8],cmap='gist_ncar') #NetCDF\n",
    "%timeit temp_mean4.plot(figsize=[10, 8],cmap='gist_ncar') #Zarr"
   ]
  },
  {
   "cell_type": "code",
   "execution_count": null,
   "metadata": {},
   "outputs": [],
   "source": [
    "cluster.scale(10)\n",
    "%timeit temp_mean.plot(figsize=[10, 8],cmap='gist_ncar') #NetCDF\n",
    "%timeit temp_mean4.plot(figsize=[10, 8],cmap='gist_ncar') #Zarr"
   ]
  },
  {
   "cell_type": "code",
   "execution_count": null,
   "metadata": {},
   "outputs": [],
   "source": [
    "client.close()\n",
    "cluster.close()"
   ]
  },
  {
   "cell_type": "code",
   "execution_count": null,
   "metadata": {},
   "outputs": [],
   "source": [
    "cluster.scale(2)"
   ]
  },
  {
   "cell_type": "code",
   "execution_count": null,
   "metadata": {},
   "outputs": [],
   "source": [
    "cluster.scale(20)\n",
    "%timeit temp_mean.plot(figsize=[10, 8],cmap='gist_ncar') #NetCDF\n",
    "%timeit temp_mean4.plot(figsize=[10, 8],cmap='gist_ncar') #Zarr"
   ]
  },
  {
   "cell_type": "code",
   "execution_count": null,
   "metadata": {},
   "outputs": [],
   "source": [
    "cluster.scale(2)#let's just say I don't know how else to test if its scaling down,easily\n",
    "cluster.scale(40)\n",
    "%timeit temp_mean.plot(figsize=[10, 8],cmap='gist_ncar') #NetCDF\n",
    "%timeit temp_mean4.plot(figsize=[10, 8],cmap='gist_ncar') #Zarr\n"
   ]
  },
  {
   "cell_type": "code",
   "execution_count": null,
   "metadata": {},
   "outputs": [],
   "source": [
    "cluster.scale(2)#let's just say I don't know how else to test if its scaling down,easily\n",
    "cluster.scale(50)\n",
    "%timeit temp_mean.plot(figsize=[10, 8],cmap='gist_ncar') #NetCDF\n",
    "%timeit temp_mean4.plot(figsize=[10, 8],cmap='gist_ncar') #Zarr\n"
   ]
  },
  {
   "cell_type": "code",
   "execution_count": null,
   "metadata": {},
   "outputs": [],
   "source": [
    "cluster.scale(2)#let's just say I don't know how else to test if its scaling down,easily\n",
    "cluster.scale(45)\n",
    "%timeit temp_mean.plot(figsize=[10, 8],cmap='gist_ncar') #NetCDF\n",
    "%timeit temp_mean4.plot(figsize=[10, 8],cmap='gist_ncar') #Zarr\n"
   ]
  },
  {
   "cell_type": "code",
   "execution_count": null,
   "metadata": {},
   "outputs": [],
   "source": [
    "cluster.scale(2)#let's just say I don't know how else to test if its scaling down,easily\n",
    "cluster.scale(20)\n",
    "%timeit temp_mean.plot(figsize=[10, 8],cmap='gist_ncar') #NetCDF\n",
    "%timeit temp_mean4.plot(figsize=[10, 8],cmap='gist_ncar') #Zarr\n"
   ]
  },
  {
   "cell_type": "code",
   "execution_count": null,
   "metadata": {},
   "outputs": [],
   "source": [
    "cluster.scale(2)#let's just say I don't know how else to test if its scaling down,easily\n",
    "cluster.scale(60)\n",
    "%timeit temp_mean.plot(figsize=[10, 8],cmap='gist_ncar') #NetCDF\n",
    "%timeit temp_mean4.plot(figsize=[10, 8],cmap='gist_ncar') #Zarr\n"
   ]
  },
  {
   "cell_type": "code",
   "execution_count": null,
   "metadata": {},
   "outputs": [],
   "source": [
    "cluster.scale(2)#let's just say I don't know how else to test if its scaling down,easily\n",
    "cluster.scale(50)\n",
    "%timeit temp_mean.plot(figsize=[10, 8],cmap='gist_ncar') #NetCDF\n",
    "%timeit temp_mean4.plot(figsize=[10, 8],cmap='gist_ncar') #Zarr\n"
   ]
  },
  {
   "cell_type": "code",
   "execution_count": null,
   "metadata": {},
   "outputs": [],
   "source": [
    "cluster.scale(2)#let's just say I don't know how else to test if its scaling down,easily\n",
    "cluster.scale(60)\n",
    "%timeit temp_mean.plot(figsize=[10, 8],cmap='gist_ncar') #NetCDF\n",
    "%timeit temp_mean4.plot(figsize=[10, 8],cmap='gist_ncar') #Zarr"
   ]
  },
  {
   "cell_type": "code",
   "execution_count": null,
   "metadata": {},
   "outputs": [],
   "source": [
    "cluster.scale(2)#let's just say I don't know how else to test if its scaling down,easily\n",
    "cluster.scale(90)\n",
    "%timeit temp_mean.plot(figsize=[10, 8],cmap='gist_ncar') #NetCDF\n",
    "%timeit temp_mean4.plot(figsize=[10, 8],cmap='gist_ncar') #Zarr"
   ]
  },
  {
   "cell_type": "code",
   "execution_count": null,
   "metadata": {},
   "outputs": [],
   "source": [
    "cluster.scale(2)\n",
    "cluster.scale(100)\n",
    "%timeit temp_mean.plot(figsize=[10, 8],cmap='gist_ncar') #NetCDF\n",
    "%timeit temp_mean4.plot(figsize=[10, 8],cmap='gist_ncar') #Zarr"
   ]
  },
  {
   "cell_type": "code",
   "execution_count": null,
   "metadata": {},
   "outputs": [],
   "source": [
    "cluster.scale(2)\n",
    "cluster.scale(150)\n",
    "%timeit temp_mean.plot(figsize=[10, 8],cmap='gist_ncar') #NetCDF\n",
    "%timeit temp_mean4.plot(figsize=[10, 8],cmap='gist_ncar') #Zarr"
   ]
  },
  {
   "cell_type": "code",
   "execution_count": null,
   "metadata": {},
   "outputs": [],
   "source": []
  }
 ],
 "metadata": {
  "kernelspec": {
   "display_name": "Python 3",
   "language": "python",
   "name": "python3"
  },
  "language_info": {
   "codemirror_mode": {
    "name": "ipython",
    "version": 3
   },
   "file_extension": ".py",
   "mimetype": "text/x-python",
   "name": "python",
   "nbconvert_exporter": "python",
   "pygments_lexer": "ipython3",
   "version": "3.6.10"
  }
 },
 "nbformat": 4,
 "nbformat_minor": 4
}
